{
  "nbformat": 4,
  "nbformat_minor": 0,
  "metadata": {
    "colab": {
      "provenance": [],
      "gpuType": "T4"
    },
    "kernelspec": {
      "name": "python3",
      "display_name": "Python 3"
    },
    "language_info": {
      "name": "python"
    },
    "accelerator": "GPU"
  },
  "cells": [
    {
      "cell_type": "markdown",
      "source": [
        "# **Week 3 · Lesson 2 — Build & Trace a Mini-Transformer Encoder (2 layers)**"
      ],
      "metadata": {
        "id": "Vk8idFxKXtCw"
      }
    },
    {
      "cell_type": "markdown",
      "source": [
        "In this lab, you will construct a two-layer Transformer encoder from first principles, then trace shapes and attention maps to verify that each sub-block (multi-head self-attention, Add & LayerNorm, feed-forward network) behaves as expected."
      ],
      "metadata": {
        "id": "GlH6OplGX715"
      }
    },
    {
      "cell_type": "markdown",
      "source": [
        "**1) Setup and notebook utilities**"
      ],
      "metadata": {
        "id": "4o7hzJ2pYLQq"
      }
    },
    {
      "cell_type": "code",
      "execution_count": 1,
      "metadata": {
        "colab": {
          "base_uri": "https://localhost:8080/"
        },
        "id": "LvFj5xmoXr4G",
        "outputId": "6db0192f-78bc-486e-948c-f12a0a721a79"
      },
      "outputs": [
        {
          "output_type": "stream",
          "name": "stdout",
          "text": [
            "Device: cuda\n"
          ]
        }
      ],
      "source": [
        "import math\n",
        "import torch\n",
        "import torch.nn as nn\n",
        "import torch.nn.functional as F\n",
        "import matplotlib.pyplot as plt\n",
        "\n",
        "device = \"cuda\" if torch.cuda.is_available() else \"cpu\"\n",
        "print(\"Device:\", device)\n",
        "\n",
        "# Reproducibility\n",
        "torch.manual_seed(42)\n",
        "\n",
        "# Configuration (feel free to lower D_MODEL=64 and N_HEADS=2 if your device is slow)\n",
        "BATCH_SIZE = 2     # B\n",
        "SEQ_LEN    = 6     # S\n",
        "D_MODEL    = 128   # d_model\n",
        "N_HEADS    = 4     # number of attention heads\n",
        "D_FF       = 4 * D_MODEL\n",
        "VOCAB_SIZE = 2000\n",
        "\n",
        "# Helper to print shapes and basic stats during the trace\n",
        "def stats(name, x):\n",
        "    x_det = x.detach()\n",
        "    print(f\"{name:>22} | shape={tuple(x_det.shape)}  \"\n",
        "          f\"min={x_det.min():.4f} max={x_det.max():.4f} mean={x_det.mean():.4f}\")\n"
      ]
    },
    {
      "cell_type": "markdown",
      "source": [
        "**2) Positional signal (sinusoidal)**"
      ],
      "metadata": {
        "id": "4lcmXTr-ZeIN"
      }
    },
    {
      "cell_type": "markdown",
      "source": [
        "You will add a deterministic position encoding so the encoder can distinguish word order."
      ],
      "metadata": {
        "id": "iNrpHK7KZjWV"
      }
    },
    {
      "cell_type": "code",
      "source": [
        "class SinusoidalPositionalEncoding(nn.Module):\n",
        "    \"\"\"\n",
        "    Adds a sinusoidal position signal to token embeddings.\n",
        "    Input/Output shape: (B, S, d_model)\n",
        "    \"\"\"\n",
        "    def __init__(self, d_model: int, max_len: int = 512):\n",
        "        super().__init__()\n",
        "        pe = torch.zeros(max_len, d_model)\n",
        "        position = torch.arange(0, max_len, dtype=torch.float32).unsqueeze(1)   # (S, 1)\n",
        "        div_term = torch.exp(torch.arange(0, d_model, 2, dtype=torch.float32)\n",
        "                             * (-math.log(10000.0) / d_model))\n",
        "        pe[:, 0::2] = torch.sin(position * div_term)   # even indices\n",
        "        pe[:, 1::2] = torch.cos(position * div_term)   # odd indices\n",
        "        pe = pe.unsqueeze(0)  # (1, S, d_model)\n",
        "        self.register_buffer(\"pe\", pe)  # not a trainable parameter\n",
        "\n",
        "    def forward(self, x: torch.Tensor) -> torch.Tensor:\n",
        "        S = x.size(1)\n",
        "        return x + self.pe[:, :S, :]\n"
      ],
      "metadata": {
        "id": "3Cyk2eFdZnsd"
      },
      "execution_count": 2,
      "outputs": []
    },
    {
      "cell_type": "markdown",
      "source": [
        "**3) One encoder layer (MHSA → Add\\&Norm → FFN → Add\\&Norm)**"
      ],
      "metadata": {
        "id": "JF6EFv3wZtBv"
      }
    },
    {
      "cell_type": "markdown",
      "source": [
        "You will also collect a \\textbf{trace} of intermediate tensors and attention weights."
      ],
      "metadata": {
        "id": "cjbH1stiZ1vi"
      }
    },
    {
      "cell_type": "code",
      "source": [
        "class MiniEncoderLayer(nn.Module):\n",
        "    \"\"\"\n",
        "    One Transformer encoder layer:\n",
        "      1) Multi-Head Self-Attention (MHSA)\n",
        "      2) Add & LayerNorm\n",
        "      3) Feed-Forward Network (FFN)\n",
        "      4) Add & LayerNorm\n",
        "    Returns both the output and a trace dict.\n",
        "    \"\"\"\n",
        "    def __init__(self, d_model: int, n_heads: int, d_ff: int, attn_dropout: float = 0.0, ff_dropout: float = 0.0):\n",
        "        super().__init__()\n",
        "        self.mha = nn.MultiheadAttention(d_model, n_heads, batch_first=True, dropout=attn_dropout)\n",
        "        self.norm1 = nn.LayerNorm(d_model)\n",
        "        self.ffn = nn.Sequential(\n",
        "            nn.Linear(d_model, d_ff),\n",
        "            nn.GELU(),\n",
        "            nn.Dropout(ff_dropout),\n",
        "            nn.Linear(d_ff, d_model),\n",
        "        )\n",
        "        self.norm2 = nn.LayerNorm(d_model)\n",
        "\n",
        "    def forward(self, x, return_attn: bool = True,\n",
        "                disable_residuals: bool = False,\n",
        "                disable_ffn: bool = False):\n",
        "        trace = {}\n",
        "\n",
        "        # 1) MHSA\n",
        "        attn_out, attn_w = self.mha(x, x, x, need_weights=True, average_attn_weights=False)\n",
        "        # attn_w shape: (B, n_heads, S, S)\n",
        "        trace[\"mhsa_out\"] = attn_out\n",
        "        trace[\"attn_w\"] = attn_w\n",
        "\n",
        "        # 2) Add & LayerNorm #1\n",
        "        if disable_residuals:\n",
        "            y = self.norm1(attn_out)\n",
        "        else:\n",
        "            y = self.norm1(x + attn_out)\n",
        "        trace[\"post_attn_norm\"] = y\n",
        "\n",
        "        # 3) FFN\n",
        "        if disable_ffn:\n",
        "            ffn_out = torch.zeros_like(y)\n",
        "        else:\n",
        "            ffn_out = self.ffn(y)\n",
        "        trace[\"ffn_out\"] = ffn_out\n",
        "\n",
        "        # 4) Add & LayerNorm #2\n",
        "        if disable_residuals:\n",
        "            z = self.norm2(ffn_out)\n",
        "        else:\n",
        "            z = self.norm2(y + ffn_out)\n",
        "        trace[\"post_ffn_norm\"] = z\n",
        "\n",
        "        if return_attn:\n",
        "            return z, trace, attn_w\n",
        "        return z, trace, None"
      ],
      "metadata": {
        "id": "nDpkwSOKZyHH"
      },
      "execution_count": 3,
      "outputs": []
    },
    {
      "cell_type": "markdown",
      "source": [
        "**4) Two-layer encoder wrapper**"
      ],
      "metadata": {
        "id": "XwjHg0RZZ-2J"
      }
    },
    {
      "cell_type": "markdown",
      "source": [
        "This module embeds token IDs, adds positional encoding, and stacks two encoder layers."
      ],
      "metadata": {
        "id": "czqiNqxCaH23"
      }
    },
    {
      "cell_type": "code",
      "source": [
        "class MiniEncoder(nn.Module):\n",
        "    \"\"\"\n",
        "    Token embedding + positional encoding + stacked encoder layers.\n",
        "    \"\"\"\n",
        "    def __init__(self, vocab_size: int, d_model: int, n_heads: int, d_ff: int, n_layers: int = 2,\n",
        "                 use_positional_encoding: bool = True):\n",
        "        super().__init__()\n",
        "        self.embed = nn.Embedding(vocab_size, d_model)\n",
        "        self.posenc = SinusoidalPositionalEncoding(d_model) if use_positional_encoding else nn.Identity()\n",
        "        self.layers = nn.ModuleList([MiniEncoderLayer(d_model, n_heads, d_ff) for _ in range(n_layers)])\n",
        "\n",
        "    def forward(self, token_ids, return_all_traces: bool = True,\n",
        "                disable_residuals: bool = False, disable_ffn: bool = False):\n",
        "        # token_ids: (B, S)\n",
        "        x = self.embed(token_ids)                 # (B, S, d_model)\n",
        "        x = self.posenc(x)                        # (B, S, d_model)\n",
        "        traces = []\n",
        "        attn_list = []\n",
        "\n",
        "        for i, layer in enumerate(self.layers, start=1):\n",
        "            x, trace, attn = layer(x, return_attn=True,\n",
        "                                   disable_residuals=disable_residuals,\n",
        "                                   disable_ffn=disable_ffn)\n",
        "            if return_all_traces:\n",
        "                traces.append((f\"layer_{i}\", trace))\n",
        "                attn_list.append(attn)\n",
        "        return x, traces, attn_list"
      ],
      "metadata": {
        "id": "HBfs1F9_aEZq"
      },
      "execution_count": 4,
      "outputs": []
    },
    {
      "cell_type": "markdown",
      "source": [
        "**5) Create a toy batch and run a full trace**"
      ],
      "metadata": {
        "id": "4HBXx9GPaOfE"
      }
    },
    {
      "cell_type": "markdown",
      "source": [
        "You will print tensor shapes and value ranges after each sub-block to confirm the wiring is correct."
      ],
      "metadata": {
        "id": "A_236vgCaTFF"
      }
    },
    {
      "cell_type": "code",
      "source": [
        "# Toy batch of token IDs\n",
        "token_ids = torch.randint(low=0, high=VOCAB_SIZE, size=(BATCH_SIZE, SEQ_LEN), device=device)\n",
        "\n",
        "# Build the encoder WITH positional encoding\n",
        "encoder = MiniEncoder(VOCAB_SIZE, D_MODEL, N_HEADS, D_FF, n_layers=2, use_positional_encoding=True).to(device)\n",
        "\n",
        "# Forward pass + trace\n",
        "with torch.no_grad():\n",
        "    enc_out, traces, attn_list = encoder(token_ids, return_all_traces=True)\n",
        "\n",
        "print(\"=== INPUTS ===\")\n",
        "#stats(\"token_ids\", token_ids)\n",
        "\n",
        "print(\"\\n=== LAYER-BY-LAYER TRACE ===\")\n",
        "for lname, tr in traces:\n",
        "    print(f\"\\n-- {lname} --\")\n",
        "    stats(\"mhsa_out\", tr[\"mhsa_out\"])\n",
        "    stats(\"post_attn_norm\", tr[\"post_attn_norm\"])\n",
        "    stats(\"ffn_out\", tr[\"ffn_out\"])\n",
        "    stats(\"post_ffn_norm\", tr[\"post_ffn_norm\"])\n",
        "\n",
        "print(\"\\n=== ENCODER OUTPUT ===\")\n",
        "stats(\"enc_out\", enc_out)\n",
        "\n",
        "# Verify attention weights shapes per layer\n",
        "for i, attn in enumerate(attn_list, start=1):\n",
        "    print(f\"Attention weights L{i}: shape={tuple(attn.shape)}  (B, heads, S, S)\")"
      ],
      "metadata": {
        "colab": {
          "base_uri": "https://localhost:8080/"
        },
        "id": "lCencycGaZ_0",
        "outputId": "5467121c-eca2-4a42-d4ac-9f811a75a331"
      },
      "execution_count": 6,
      "outputs": [
        {
          "output_type": "stream",
          "name": "stdout",
          "text": [
            "=== INPUTS ===\n",
            "\n",
            "=== LAYER-BY-LAYER TRACE ===\n",
            "\n",
            "-- layer_1 --\n",
            "              mhsa_out | shape=(2, 6, 128)  min=-1.1203 max=0.8566 mean=-0.0351\n",
            "        post_attn_norm | shape=(2, 6, 128)  min=-3.7055 max=3.1124 mean=0.0000\n",
            "               ffn_out | shape=(2, 6, 128)  min=-0.8070 max=0.5523 mean=0.0041\n",
            "         post_ffn_norm | shape=(2, 6, 128)  min=-3.8996 max=3.0755 mean=-0.0000\n",
            "\n",
            "-- layer_2 --\n",
            "              mhsa_out | shape=(2, 6, 128)  min=-0.7672 max=0.6601 mean=0.0310\n",
            "        post_attn_norm | shape=(2, 6, 128)  min=-3.8655 max=3.1144 mean=0.0000\n",
            "               ffn_out | shape=(2, 6, 128)  min=-0.7346 max=0.7583 mean=0.0193\n",
            "         post_ffn_norm | shape=(2, 6, 128)  min=-4.0200 max=3.2664 mean=0.0000\n",
            "\n",
            "=== ENCODER OUTPUT ===\n",
            "               enc_out | shape=(2, 6, 128)  min=-4.0200 max=3.2664 mean=0.0000\n",
            "Attention weights L1: shape=(2, 4, 6, 6)  (B, heads, S, S)\n",
            "Attention weights L2: shape=(2, 4, 6, 6)  (B, heads, S, S)\n"
          ]
        }
      ]
    },
    {
      "cell_type": "markdown",
      "source": [
        "**6) Visualize one attention map (S × S)**"
      ],
      "metadata": {
        "id": "ht7tZDENafCi"
      }
    },
    {
      "cell_type": "markdown",
      "source": [
        "You will inspect Layer 1, Head 0 for batch item 0. (Feel free to try other heads/layers.)"
      ],
      "metadata": {
        "id": "PzXF_CH2ajf9"
      }
    },
    {
      "cell_type": "code",
      "source": [
        "attn = attn_list[0]            # layer 1 attention weights\n",
        "attn_map = attn[0, 0].cpu()    # (S, S): batch 0, head 0\n",
        "\n",
        "plt.figure(figsize=(4, 3))\n",
        "plt.imshow(attn_map)\n",
        "plt.colorbar(label=\"Attention weight\")\n",
        "plt.title(\"Layer 1 · Head 0 — Self-Attention (S × S)\")\n",
        "plt.xlabel(\"Key positions (source)\")\n",
        "plt.ylabel(\"Query positions (target)\")\n",
        "plt.tight_layout()\n",
        "plt.show()\n"
      ],
      "metadata": {
        "colab": {
          "base_uri": "https://localhost:8080/",
          "height": 307
        },
        "id": "yuSk5Yp7amc_",
        "outputId": "1475ef8d-3e42-4236-d537-e7bd76cfef1a"
      },
      "execution_count": 7,
      "outputs": [
        {
          "output_type": "display_data",
          "data": {
            "text/plain": [
              "<Figure size 400x300 with 2 Axes>"
            ],
            "image/png": "[encoded data removed]"
          },
          "metadata": {}
        }
      ]
    },
    {
      "cell_type": "markdown",
      "source": [
        "**7) Sanity checks (attention normalization)**"
      ],
      "metadata": {
        "id": "85bOzLrJaqrd"
      }
    },
    {
      "cell_type": "markdown",
      "source": [
        "For a self-attention head, weights over the \\textbf{key} dimension should sum to \\~1.0 for each query."
      ],
      "metadata": {
        "id": "W8AcmDwFawXb"
      }
    },
    {
      "cell_type": "code",
      "source": [
        "# Check Layer 1, Head 0, Batch 0\n",
        "attn = attn_list[0] # (B, heads, S, S)\n",
        "a = attn[0, 0] # (S, S)\n",
        "row_sums = a.sum(dim=-1) # sum over key positions\n",
        "print(\"Row sums (should be ~1.0 each):\", row_sums)\n",
        "assert torch.allclose(row_sums, torch.ones_like(row_sums), atol=1e-5), \"Attention rows do not sum to 1.0!\"\n",
        "print(\"✓ Attention normalization check passed.\")"
      ],
      "metadata": {
        "colab": {
          "base_uri": "https://localhost:8080/"
        },
        "id": "-JwKT3ZBaxb3",
        "outputId": "0b06770a-84db-4beb-ab1d-8b21317722fe"
      },
      "execution_count": 8,
      "outputs": [
        {
          "output_type": "stream",
          "name": "stdout",
          "text": [
            "Row sums (should be ~1.0 each): tensor([1.0000, 1.0000, 1.0000, 1.0000, 1.0000, 1.0000], device='cuda:0')\n",
            "✓ Attention normalization check passed.\n"
          ]
        }
      ]
    },
    {
      "cell_type": "markdown",
      "source": [
        "**8) Quick ablations (reason about why each part matters)**"
      ],
      "metadata": {
        "id": "9zdi0__Tej6o"
      }
    },
    {
      "cell_type": "markdown",
      "source": [
        "**8a) Remove positional encoding**\n",
        "You will compare outputs with/without positional signals."
      ],
      "metadata": {
        "id": "AHfEy7SwelVa"
      }
    },
    {
      "cell_type": "code",
      "source": [
        "encoder_no_pos = MiniEncoder(VOCAB_SIZE, D_MODEL, N_HEADS, D_FF, n_layers=2, use_positional_encoding=False).to(device)\n",
        "\n",
        "with torch.no_grad():\n",
        "    out_with_pos, _, _ = encoder(token_ids)\n",
        "    out_no_pos,  _, _ = encoder_no_pos(token_ids)\n",
        "\n",
        "rms_diff_pos = (out_with_pos - out_no_pos).pow(2).mean().sqrt().item()\n",
        "print(f\"RMS difference (with vs without positional encoding): {rms_diff_pos:.6f}\")\n"
      ],
      "metadata": {
        "colab": {
          "base_uri": "https://localhost:8080/"
        },
        "id": "LB_RDdubeqbA",
        "outputId": "ad59540e-2ab4-47a8-982b-5368c63e22a3"
      },
      "execution_count": 10,
      "outputs": [
        {
          "output_type": "stream",
          "name": "stdout",
          "text": [
            "RMS difference (with vs without positional encoding): 1.378127\n"
          ]
        }
      ]
    },
    {
      "cell_type": "markdown",
      "source": [
        "**8b) Disable the FFN**\n",
        "\n",
        "You will zero-out the FFN contribution and compare to baseline."
      ],
      "metadata": {
        "id": "j23iz5vDetUH"
      }
    },
    {
      "cell_type": "code",
      "source": [
        "encoder_ffn_off = MiniEncoder(VOCAB_SIZE, D_MODEL, N_HEADS, D_FF, n_layers=2, use_positional_encoding=True).to(device)\n",
        "\n",
        "with torch.no_grad():\n",
        "    baseline, _, _ = encoder(token_ids)\n",
        "    out_ffn_off, _, _ = encoder_ffn_off(token_ids, disable_ffn=True)\n",
        "\n",
        "stats(\"enc_out (FFN OFF)\", out_ffn_off)\n",
        "rms_ffn = (baseline - out_ffn_off).pow(2).mean().sqrt().item()\n",
        "print(f\"RMS difference (baseline vs FFN-OFF): {rms_ffn:.6f}\")\n"
      ],
      "metadata": {
        "colab": {
          "base_uri": "https://localhost:8080/"
        },
        "id": "IeRAi_OjezTZ",
        "outputId": "1e18cf0d-489c-4eec-9f5c-cd72bcbe78f3"
      },
      "execution_count": 11,
      "outputs": [
        {
          "output_type": "stream",
          "name": "stdout",
          "text": [
            "     enc_out (FFN OFF) | shape=(2, 6, 128)  min=-3.3836 max=3.8700 mean=0.0000\n",
            "RMS difference (baseline vs FFN-OFF): 1.291919\n"
          ]
        }
      ]
    },
    {
      "cell_type": "markdown",
      "source": [
        "**8c) Disable residual connections**\n",
        "\n",
        "You will remove residuals and compare to baseline."
      ],
      "metadata": {
        "id": "J_MNvYTDe2jf"
      }
    },
    {
      "cell_type": "code",
      "source": [
        "encoder_res_off = MiniEncoder(VOCAB_SIZE, D_MODEL, N_HEADS, D_FF, n_layers=2, use_positional_encoding=True).to(device)\n",
        "\n",
        "with torch.no_grad():\n",
        "    out_res_off, _, _ = encoder_res_off(token_ids, disable_residuals=True)\n",
        "\n",
        "stats(\"enc_out (Residuals OFF)\", out_res_off)\n",
        "rms_res = (baseline - out_res_off).pow(2).mean().sqrt().item()\n",
        "print(f\"RMS difference (baseline vs Residuals-OFF): {rms_res:.6f}\")\n"
      ],
      "metadata": {
        "colab": {
          "base_uri": "https://localhost:8080/"
        },
        "id": "-6GK0Fowe6Dw",
        "outputId": "2ba04cc7-e4a7-4d8f-a891-be7579c8c836"
      },
      "execution_count": 12,
      "outputs": [
        {
          "output_type": "stream",
          "name": "stdout",
          "text": [
            "enc_out (Residuals OFF) | shape=(2, 6, 128)  min=-2.6404 max=3.0619 mean=0.0000\n",
            "RMS difference (baseline vs Residuals-OFF): 1.402086\n"
          ]
        }
      ]
    }
  ]
}