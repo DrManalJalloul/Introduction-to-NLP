{
  "cells": [
    {
      "cell_type": "markdown",
      "metadata": {
        "id": "wgCULNkEc3bV"
      },
      "source": [
        "# **Week 2 Practical Exercise: Compare RNN vs GRU vs LSTM on IMDb-Tiny**"
      ]
    },
    {
      "cell_type": "markdown",
      "metadata": {
        "id": "_muLynjSdJTG"
      },
      "source": [
        "You will do the following in this practical exercise:\n",
        "\n",
        "1. Verify your PyTorch installation and GPU availability.  \n",
        "2. Load a 2 000‑review balanced subset of the IMDb movie‑review corpus.  \n",
        "3. Re‑use the cleaner, tokenizer, and `DataLoader` infrastructure you built in Lesson 2.  \n",
        "4. Instantiate three models that differ **only** in their recurrent cell: Vanilla RNN, GRU, and LSTM.  \n",
        "5. Train each architecture for three epochs, tracking loss, accuracy, and epoch runtime.  \n",
        "6. Plot accuracy curves to visualise learning speed and final performance.  \n",
        "7. Inspect a few reviews that the RNN misclassifies but the gated models handle correctly.  \n",
        "8. Reflect (≈150 words) on the best trade‑off for real‑world deployment.\n",
        "\n",
        "***Fill every `## TODO` block, run \"Runtime → Run All,\" and write your reflection in the final markdown cell.***\n",
        "\"\"\""
      ]
    },
    {
      "cell_type": "markdown",
      "metadata": {
        "id": "jSNODoxSdiDN"
      },
      "source": [
        "**Step 0:  Environment Check**"
      ]
    },
    {
      "cell_type": "code",
      "execution_count": 1,
      "metadata": {
        "id": "QS1mpmrycv7d",
        "colab": {
          "base_uri": "https://localhost:8080/"
        },
        "outputId": "bd7b130f-ec38-48f7-af13-d3d9cc651a0e"
      },
      "outputs": [
        {
          "output_type": "stream",
          "name": "stdout",
          "text": [
            "PyTorch: 2.6.0+cu124 CUDA available: True\n",
            "Python : 3.11.13 Platform: Linux-6.1.123+-x86_64-with-glibc2.35\n"
          ]
        }
      ],
      "source": [
        "import torch, platform, sys, time, random, pathlib\n",
        "print(\"PyTorch:\", torch.__version__, \"CUDA available:\", torch.cuda.is_available())\n",
        "print(\"Python :\", sys.version.split()[0], \"Platform:\", platform.platform())\n",
        "DEVICE = torch.device(\"cuda\" if torch.cuda.is_available() else \"cpu\")\n"
      ]
    },
    {
      "cell_type": "code",
      "source": [
        "!pip install fsspec==2025.3.2 gcsfs==2025.3.2"
      ],
      "metadata": {
        "id": "4tyGRzrbFSeE",
        "colab": {
          "base_uri": "https://localhost:8080/"
        },
        "outputId": "dde3c1a5-7240-4c90-89a0-d2e2c5adeae3"
      },
      "execution_count": 2,
      "outputs": [
        {
          "output_type": "stream",
          "name": "stdout",
          "text": [
            "Collecting fsspec==2025.3.2\n",
            "  Downloading fsspec-2025.3.2-py3-none-any.whl.metadata (11 kB)\n",
            "Collecting gcsfs==2025.3.2\n",
            "  Downloading gcsfs-2025.3.2-py2.py3-none-any.whl.metadata (1.9 kB)\n",
            "Requirement already satisfied: aiohttp!=4.0.0a0,!=4.0.0a1 in /usr/local/lib/python3.11/dist-packages (from gcsfs==2025.3.2) (3.12.15)\n",
            "Requirement already satisfied: decorator>4.1.2 in /usr/local/lib/python3.11/dist-packages (from gcsfs==2025.3.2) (4.4.2)\n",
            "Requirement already satisfied: google-auth>=1.2 in /usr/local/lib/python3.11/dist-packages (from gcsfs==2025.3.2) (2.38.0)\n",
            "Requirement already satisfied: google-auth-oauthlib in /usr/local/lib/python3.11/dist-packages (from gcsfs==2025.3.2) (1.2.2)\n",
            "Requirement already satisfied: google-cloud-storage in /usr/local/lib/python3.11/dist-packages (from gcsfs==2025.3.2) (2.19.0)\n",
            "Requirement already satisfied: requests in /usr/local/lib/python3.11/dist-packages (from gcsfs==2025.3.2) (2.32.3)\n",
            "Requirement already satisfied: aiohappyeyeballs>=2.5.0 in /usr/local/lib/python3.11/dist-packages (from aiohttp!=4.0.0a0,!=4.0.0a1->gcsfs==2025.3.2) (2.6.1)\n",
            "Requirement already satisfied: aiosignal>=1.4.0 in /usr/local/lib/python3.11/dist-packages (from aiohttp!=4.0.0a0,!=4.0.0a1->gcsfs==2025.3.2) (1.4.0)\n",
            "Requirement already satisfied: attrs>=17.3.0 in /usr/local/lib/python3.11/dist-packages (from aiohttp!=4.0.0a0,!=4.0.0a1->gcsfs==2025.3.2) (25.3.0)\n",
            "Requirement already satisfied: frozenlist>=1.1.1 in /usr/local/lib/python3.11/dist-packages (from aiohttp!=4.0.0a0,!=4.0.0a1->gcsfs==2025.3.2) (1.7.0)\n",
            "Requirement already satisfied: multidict<7.0,>=4.5 in /usr/local/lib/python3.11/dist-packages (from aiohttp!=4.0.0a0,!=4.0.0a1->gcsfs==2025.3.2) (6.6.3)\n",
            "Requirement already satisfied: propcache>=0.2.0 in /usr/local/lib/python3.11/dist-packages (from aiohttp!=4.0.0a0,!=4.0.0a1->gcsfs==2025.3.2) (0.3.2)\n",
            "Requirement already satisfied: yarl<2.0,>=1.17.0 in /usr/local/lib/python3.11/dist-packages (from aiohttp!=4.0.0a0,!=4.0.0a1->gcsfs==2025.3.2) (1.20.1)\n",
            "Requirement already satisfied: cachetools<6.0,>=2.0.0 in /usr/local/lib/python3.11/dist-packages (from google-auth>=1.2->gcsfs==2025.3.2) (5.5.2)\n",
            "Requirement already satisfied: pyasn1-modules>=0.2.1 in /usr/local/lib/python3.11/dist-packages (from google-auth>=1.2->gcsfs==2025.3.2) (0.4.2)\n",
            "Requirement already satisfied: rsa<5,>=3.1.4 in /usr/local/lib/python3.11/dist-packages (from google-auth>=1.2->gcsfs==2025.3.2) (4.9.1)\n",
            "Requirement already satisfied: requests-oauthlib>=0.7.0 in /usr/local/lib/python3.11/dist-packages (from google-auth-oauthlib->gcsfs==2025.3.2) (2.0.0)\n",
            "Requirement already satisfied: google-api-core<3.0.0dev,>=2.15.0 in /usr/local/lib/python3.11/dist-packages (from google-cloud-storage->gcsfs==2025.3.2) (2.25.1)\n",
            "Requirement already satisfied: google-cloud-core<3.0dev,>=2.3.0 in /usr/local/lib/python3.11/dist-packages (from google-cloud-storage->gcsfs==2025.3.2) (2.4.3)\n",
            "Requirement already satisfied: google-resumable-media>=2.7.2 in /usr/local/lib/python3.11/dist-packages (from google-cloud-storage->gcsfs==2025.3.2) (2.7.2)\n",
            "Requirement already satisfied: google-crc32c<2.0dev,>=1.0 in /usr/local/lib/python3.11/dist-packages (from google-cloud-storage->gcsfs==2025.3.2) (1.7.1)\n",
            "Requirement already satisfied: charset-normalizer<4,>=2 in /usr/local/lib/python3.11/dist-packages (from requests->gcsfs==2025.3.2) (3.4.2)\n",
            "Requirement already satisfied: idna<4,>=2.5 in /usr/local/lib/python3.11/dist-packages (from requests->gcsfs==2025.3.2) (3.10)\n",
            "Requirement already satisfied: urllib3<3,>=1.21.1 in /usr/local/lib/python3.11/dist-packages (from requests->gcsfs==2025.3.2) (2.5.0)\n",
            "Requirement already satisfied: certifi>=2017.4.17 in /usr/local/lib/python3.11/dist-packages (from requests->gcsfs==2025.3.2) (2025.8.3)\n",
            "Requirement already satisfied: typing-extensions>=4.2 in /usr/local/lib/python3.11/dist-packages (from aiosignal>=1.4.0->aiohttp!=4.0.0a0,!=4.0.0a1->gcsfs==2025.3.2) (4.14.1)\n",
            "Requirement already satisfied: googleapis-common-protos<2.0.0,>=1.56.2 in /usr/local/lib/python3.11/dist-packages (from google-api-core<3.0.0dev,>=2.15.0->google-cloud-storage->gcsfs==2025.3.2) (1.70.0)\n",
            "Requirement already satisfied: protobuf!=3.20.0,!=3.20.1,!=4.21.0,!=4.21.1,!=4.21.2,!=4.21.3,!=4.21.4,!=4.21.5,<7.0.0,>=3.19.5 in /usr/local/lib/python3.11/dist-packages (from google-api-core<3.0.0dev,>=2.15.0->google-cloud-storage->gcsfs==2025.3.2) (5.29.5)\n",
            "Requirement already satisfied: proto-plus<2.0.0,>=1.22.3 in /usr/local/lib/python3.11/dist-packages (from google-api-core<3.0.0dev,>=2.15.0->google-cloud-storage->gcsfs==2025.3.2) (1.26.1)\n",
            "Requirement already satisfied: pyasn1<0.7.0,>=0.6.1 in /usr/local/lib/python3.11/dist-packages (from pyasn1-modules>=0.2.1->google-auth>=1.2->gcsfs==2025.3.2) (0.6.1)\n",
            "Requirement already satisfied: oauthlib>=3.0.0 in /usr/local/lib/python3.11/dist-packages (from requests-oauthlib>=0.7.0->google-auth-oauthlib->gcsfs==2025.3.2) (3.3.1)\n",
            "Downloading fsspec-2025.3.2-py3-none-any.whl (194 kB)\n",
            "\u001b[2K   \u001b[90m━━━━━━━━━━━━━━━━━━━━━━━━━━━━━━━━━━━━━━━━\u001b[0m \u001b[32m194.4/194.4 kB\u001b[0m \u001b[31m6.0 MB/s\u001b[0m eta \u001b[36m0:00:00\u001b[0m\n",
            "\u001b[?25hDownloading gcsfs-2025.3.2-py2.py3-none-any.whl (36 kB)\n",
            "Installing collected packages: fsspec, gcsfs\n",
            "  Attempting uninstall: fsspec\n",
            "    Found existing installation: fsspec 2025.3.0\n",
            "    Uninstalling fsspec-2025.3.0:\n",
            "      Successfully uninstalled fsspec-2025.3.0\n",
            "  Attempting uninstall: gcsfs\n",
            "    Found existing installation: gcsfs 2025.3.0\n",
            "    Uninstalling gcsfs-2025.3.0:\n",
            "      Successfully uninstalled gcsfs-2025.3.0\n",
            "\u001b[31mERROR: pip's dependency resolver does not currently take into account all the packages that are installed. This behaviour is the source of the following dependency conflicts.\n",
            "datasets 4.0.0 requires fsspec[http]<=2025.3.0,>=2023.1.0, but you have fsspec 2025.3.2 which is incompatible.\n",
            "torch 2.6.0+cu124 requires nvidia-cublas-cu12==12.4.5.8; platform_system == \"Linux\" and platform_machine == \"x86_64\", but you have nvidia-cublas-cu12 12.5.3.2 which is incompatible.\n",
            "torch 2.6.0+cu124 requires nvidia-cuda-cupti-cu12==12.4.127; platform_system == \"Linux\" and platform_machine == \"x86_64\", but you have nvidia-cuda-cupti-cu12 12.5.82 which is incompatible.\n",
            "torch 2.6.0+cu124 requires nvidia-cuda-nvrtc-cu12==12.4.127; platform_system == \"Linux\" and platform_machine == \"x86_64\", but you have nvidia-cuda-nvrtc-cu12 12.5.82 which is incompatible.\n",
            "torch 2.6.0+cu124 requires nvidia-cuda-runtime-cu12==12.4.127; platform_system == \"Linux\" and platform_machine == \"x86_64\", but you have nvidia-cuda-runtime-cu12 12.5.82 which is incompatible.\n",
            "torch 2.6.0+cu124 requires nvidia-cudnn-cu12==9.1.0.70; platform_system == \"Linux\" and platform_machine == \"x86_64\", but you have nvidia-cudnn-cu12 9.3.0.75 which is incompatible.\n",
            "torch 2.6.0+cu124 requires nvidia-cufft-cu12==11.2.1.3; platform_system == \"Linux\" and platform_machine == \"x86_64\", but you have nvidia-cufft-cu12 11.2.3.61 which is incompatible.\n",
            "torch 2.6.0+cu124 requires nvidia-curand-cu12==10.3.5.147; platform_system == \"Linux\" and platform_machine == \"x86_64\", but you have nvidia-curand-cu12 10.3.6.82 which is incompatible.\n",
            "torch 2.6.0+cu124 requires nvidia-cusolver-cu12==11.6.1.9; platform_system == \"Linux\" and platform_machine == \"x86_64\", but you have nvidia-cusolver-cu12 11.6.3.83 which is incompatible.\n",
            "torch 2.6.0+cu124 requires nvidia-cusparse-cu12==12.3.1.170; platform_system == \"Linux\" and platform_machine == \"x86_64\", but you have nvidia-cusparse-cu12 12.5.1.3 which is incompatible.\n",
            "torch 2.6.0+cu124 requires nvidia-nccl-cu12==2.21.5; platform_system == \"Linux\" and platform_machine == \"x86_64\", but you have nvidia-nccl-cu12 2.23.4 which is incompatible.\n",
            "torch 2.6.0+cu124 requires nvidia-nvjitlink-cu12==12.4.127; platform_system == \"Linux\" and platform_machine == \"x86_64\", but you have nvidia-nvjitlink-cu12 12.5.82 which is incompatible.\u001b[0m\u001b[31m\n",
            "\u001b[0mSuccessfully installed fsspec-2025.3.2 gcsfs-2025.3.2\n"
          ]
        }
      ]
    },
    {
      "cell_type": "markdown",
      "source": [
        "**Step 1: Authenticate with Hugging Face Hub in Colab**"
      ],
      "metadata": {
        "id": "DphVu83fsho_"
      }
    },
    {
      "cell_type": "code",
      "source": [
        "!pip install -q huggingface_hub  # install if not already present\n",
        "\n",
        "from huggingface_hub import login\n",
        "login()   # ↩️ will prompt for your token\n",
        "\n",
        "\"\"\"\n",
        "💡 How to get the token:\n",
        "   • Visit https://huggingface.co/settings/tokens\n",
        "   • Click ‘New token’ → choose “read” scope → Copy\n",
        "   • Paste into the prompt above and press Enter.\n",
        "The notebook now has access to private or gated models/datasets for this session.\n",
        "\"\"\""
      ],
      "metadata": {
        "id": "Q6o379YWsiht",
        "colab": {
          "base_uri": "https://localhost:8080/",
          "height": 70,
          "referenced_widgets": [
            "ef5d0b4599724fc0a615207ab891f859",
            "e8c2963708164f17ad84764f38041cfe",
            "8e29e5812e1742cfb9393f2b41c398fa",
            "0d04a4950cdb469da3c772e2e2b2caea",
            "e0e5c78eb9c84b81b272ad5285a6a798",
            "b74cd69392eb40c28aa7a1e9c687036b",
            "f66b5f6134d74c64bf7440d1f485da00",
            "3f1ade826e1d4ac89f52e5de18e68a61",
            "5c7df93135854c769e114274339b8bfa",
            "0a432c8ea9b149698c5fec3d32a0881c",
            "85c42c9aa32d4588a07acfed697f2d59",
            "c9c171ad9cc24718ab4a577e8addeb80",
            "04e423e30d474f53ba1747189fcd67e0",
            "2822013f2eb24c1e9a9f2966f5ac7497",
            "7be2a52a11104a3c986b0e0090b9f930",
            "afb0ca755ada4d8abce7ac0a4829fe8f",
            "48cac7d643434d2285dd0194d58e373b",
            "f7367946120c47858c9f124531c36f0c",
            "91f48b193dac491db3c65bf90e748b25",
            "26578afd19364c81ba10126a915412cd"
          ]
        },
        "outputId": "e2d3dd2a-75e6-4fc3-f1f7-0a34fc82efa2"
      },
      "execution_count": 3,
      "outputs": [
        {
          "output_type": "display_data",
          "data": {
            "text/plain": [
              "VBox(children=(HTML(value='<center> <img\\nsrc=https://huggingface.co/front/assets/huggingface_logo-noborder.sv…"
            ],
            "application/vnd.jupyter.widget-view+json": {
              "version_major": 2,
              "version_minor": 0,
              "model_id": "ef5d0b4599724fc0a615207ab891f859"
            }
          },
          "metadata": {}
        },
        {
          "output_type": "execute_result",
          "data": {
            "text/plain": [
              "'\\n💡 How to get the token:\\n   • Visit https://huggingface.co/settings/tokens\\n   • Click ‘New token’ → choose “read” scope → Copy\\n   • Paste into the prompt above and press Enter.\\nThe notebook now has access to private or gated models/datasets for this session.\\n'"
            ],
            "application/vnd.google.colaboratory.intrinsic+json": {
              "type": "string"
            }
          },
          "metadata": {},
          "execution_count": 3
        }
      ]
    },
    {
      "cell_type": "markdown",
      "source": [
        "**Step 2: Write the Tokenizer and clean Text code that you have written before in Week 1**"
      ],
      "metadata": {
        "id": "8482xZtqpEbk"
      }
    },
    {
      "cell_type": "code",
      "source": [
        "import re, html, unicodedata, collections\n",
        "\n",
        "# -------------------------------\n",
        "# 0  Global vocabulary container\n",
        "# -------------------------------\n",
        "PAD_ID = 0\n",
        "UNK_ID = 1\n",
        "_vocab = {\"[PAD]\": PAD_ID, \"[UNK]\": UNK_ID}\n",
        "_itos  = [\"[PAD]\", \"[UNK]\"]          # index to string\n",
        "\n",
        "def _add_to_vocab(tok):\n",
        "    \"\"\"Add token to global vocab if unseen and return its ID.\"\"\"\n",
        "    if tok not in _vocab:\n",
        "        _vocab[tok] = len(_vocab)\n",
        "        _itos.append(tok)\n",
        "    return _vocab[tok]\n",
        "\n",
        "# -------------------------------\n",
        "# 1  Cleaning helper\n",
        "# -------------------------------\n",
        "_html_tag  = re.compile(r\"<[^>]+>\")\n",
        "_multi_spc = re.compile(r\"\\s+\")\n",
        "\n",
        "def clean_text(text: str) -> str:\n",
        "    \"\"\"\n",
        "    Basic cleaning:\n",
        "      • HTML tag removal\n",
        "      • HTML entity unescape (&amp; → &)\n",
        "      • Unicode NFC normalisation\n",
        "      • Lower-casing\n",
        "      • Whitespace collapse\n",
        "    \"\"\"\n",
        "    text = _html_tag.sub(\" \", text)         # strip HTML tags\n",
        "    text = html.unescape(text)              # &amp; → &\n",
        "    text = unicodedata.normalize(\"NFC\", text)\n",
        "    text = text.lower()\n",
        "    text = _multi_spc.sub(\" \", text).strip()\n",
        "    return text\n",
        "\n",
        "# -------------------------------\n",
        "# 2  Tokeniser helper\n",
        "# -------------------------------\n",
        "_word_re = re.compile(r\"[a-z']+|[0-9]+|[^a-z0-9\\s]\", re.I)\n",
        "\n",
        "def my_tokeniser(text: str, build_vocab=True, max_tok_len=20):\n",
        "    \"\"\"\n",
        "    Very small tokenizer:\n",
        "      • Split on regex capturing words, numbers, and punctuation\n",
        "      • Truncate tokens longer than `max_tok_len`\n",
        "      • Fallback: if token unseen at inference time, break into 3-char sub-words\n",
        "    Returns a list of integer IDs (ready for model input).\n",
        "    \"\"\"\n",
        "    tokens = _word_re.findall(text)\n",
        "    ids = []\n",
        "    for tok in tokens:\n",
        "        tok = tok[:max_tok_len]             # guard against ridiculously long strings\n",
        "        if build_vocab:\n",
        "            tok_id = _add_to_vocab(tok)\n",
        "        else:\n",
        "            tok_id = _vocab.get(tok)\n",
        "            if tok_id is None:\n",
        "                # Fallback: break unseen token into 3-char chunks, average IDs\n",
        "                chunks = [tok[i:i+3] for i in range(0, len(tok), 3)]\n",
        "                chunk_ids = [_vocab.get(c, UNK_ID) for c in chunks]\n",
        "                tok_id = int(sum(chunk_ids) / len(chunk_ids))\n",
        "        ids.append(tok_id)\n",
        "    return ids"
      ],
      "metadata": {
        "id": "xGCLzbq5pNM0"
      },
      "execution_count": 4,
      "outputs": []
    },
    {
      "cell_type": "markdown",
      "metadata": {
        "id": "CxDZhrAmd3Hz"
      },
      "source": [
        "**Step 3: Load the IMDb Dataset of 20000 reviews ***\n",
        "\n",
        "\n"
      ]
    },
    {
      "cell_type": "markdown",
      "metadata": {
        "id": "jsbneaMrgA1P"
      },
      "source": [
        "You can check the the official documentation of Hugging Face to learn more on how to load a public dataset: https://huggingface.co/docs/datasets/v1.11.0/loading_datasets.html"
      ]
    },
    {
      "cell_type": "code",
      "execution_count": 6,
      "metadata": {
        "id": "qIKhasZ_d9pg",
        "colab": {
          "base_uri": "https://localhost:8080/"
        },
        "outputId": "3312846b-ccb4-46df-b223-75d442262ffb"
      },
      "outputs": [
        {
          "output_type": "stream",
          "name": "stdout",
          "text": [
            "CSV not found → sampling 2 000 reviews from HuggingFace IMDb …\n",
            "Loaded 1000 balanced reviews (pos = neg).\n"
          ]
        }
      ],
      "source": [
        "\"\"\"If the CSV is missing, we sample 1 000 positive and 1 000 negative\n",
        "reviews from the Hugging‑Face IMDb split on first run and cache it locally.\"\"\"\n",
        "import pandas as pd, datasets\n",
        "\n",
        "DATA_PATH = pathlib.Path(\"imdb_tiny.csv\")\n",
        "if not DATA_PATH.exists():\n",
        "    print(\"CSV not found → sampling 2 000 reviews from HuggingFace IMDb …\")\n",
        "    split_pos = datasets.load_dataset(\"stanfordnlp/imdb\", split=\"train[:1000]\")   # first 1 000 ⇒ pos\n",
        "    split_neg = datasets.load_dataset(\"stanfordnlp/imdb\", split=\"train[-1000:]\")   # last 1 000 ⇒ neg\n",
        "    split_pos= pd.DataFrame(split_pos)\n",
        "    split_neg= pd.DataFrame(split_neg)\n",
        "    df = pd.DataFrame({\n",
        "        \"text\"  : split_pos[\"text\"] + split_neg[\"text\"],\n",
        "        \"label\": split_pos[\"label\"] + split_neg[\"label\"]   # 1 = pos, 0 = neg\n",
        "    }).sample(frac=1, random_state=42).reset_index(drop=True)           # shuffle\n",
        "    df.to_csv(DATA_PATH, index=False)\n",
        "else:\n",
        "    df = pd.read_csv(DATA_PATH)\n",
        "print(\"Loaded\", len(df), \"balanced reviews (pos = neg).\")\n"
      ]
    },
    {
      "cell_type": "markdown",
      "source": [
        "**Step 4: DataLoader from Lesson 2**"
      ],
      "metadata": {
        "id": "izwRlM1zjWGz"
      }
    },
    {
      "cell_type": "code",
      "source": [
        "from torch.utils.data import Dataset, DataLoader\n",
        "from torch.nn.utils.rnn import pad_sequence\n",
        "\n",
        "PAD_ID = 0\n",
        "\n",
        "class ReviewDataset(Dataset):\n",
        "    def __init__(self, texts, labels):\n",
        "        self.tokens = [my_tokeniser(clean_text(t)) for t in texts]\n",
        "        self.labels = labels\n",
        "    def __len__(self):\n",
        "        return len(self.tokens)\n",
        "    def __getitem__(self, idx):\n",
        "        return {\"input_ids\": self.tokens[idx], \"label\": self.labels[idx]}\n",
        "\n",
        "def collate_batch(batch):\n",
        "    ids   = [torch.tensor(b[\"input_ids\"], dtype=torch.int64) for b in batch]\n",
        "    labels = torch.tensor([b[\"label\"] for b in batch], dtype=torch.int64)\n",
        "    ids_padded = pad_sequence(ids, batch_first=True, padding_value=PAD_ID)\n",
        "    mask = (ids_padded != PAD_ID).int()\n",
        "    return ids_padded.to(DEVICE), mask.to(DEVICE), labels.to(DEVICE)\n",
        "\n",
        "BATCH = 32\n",
        "loader = DataLoader(ReviewDataset(df.text.tolist(), df.label.tolist()),\n",
        "                    batch_size=BATCH, shuffle=True, collate_fn=collate_batch)"
      ],
      "metadata": {
        "id": "jo5nd9DMjXRH"
      },
      "execution_count": 7,
      "outputs": []
    },
    {
      "cell_type": "markdown",
      "source": [
        "**Step 5:  Define Three Models (RNN, GRU, LSTM)**"
      ],
      "metadata": {
        "id": "S6M1v4rhjbSy"
      }
    },
    {
      "cell_type": "code",
      "source": [
        "import torch.nn as nn\n",
        "EMB = 100\n",
        "HID = 128\n",
        "VOCAB = len(_vocab)       # Assumed vocab size from the tokeniser\n",
        "\n",
        "class BaseRNN(nn.Module):\n",
        "    def __init__(self, cell=\"rnn\"):\n",
        "        super().__init__()\n",
        "        self.emb = nn.Embedding(VOCAB, EMB, padding_idx=PAD_ID)\n",
        "        if cell == \"rnn\":\n",
        "            self.rnn = nn.RNN(EMB, HID, batch_first=True)\n",
        "        elif cell == \"gru\":\n",
        "            self.rnn = nn.GRU(EMB, HID, batch_first=True)\n",
        "        else:\n",
        "            self.rnn = nn.LSTM(EMB, HID, batch_first=True)\n",
        "        self.fc = nn.Linear(HID, 2)\n",
        "    def forward(self, ids, mask):\n",
        "        x = self.emb(ids)\n",
        "        out, *_ = self.rnn(x)\n",
        "        # use last non‑padded hidden state\n",
        "        lengths = mask.sum(dim=1) - 1\n",
        "        last_h = out[torch.arange(out.size(0)), lengths]\n",
        "        return self.fc(last_h)\n",
        "\n",
        "models = {\n",
        "    \"RNN\": BaseRNN(\"rnn\").to(DEVICE),\n",
        "    \"GRU\": BaseRNN(\"gru\").to(DEVICE),\n",
        "    \"LSTM\": BaseRNN(\"lstm\").to(DEVICE)\n",
        "}"
      ],
      "metadata": {
        "id": "kxy0xsQzjdd3"
      },
      "execution_count": 8,
      "outputs": []
    },
    {
      "cell_type": "markdown",
      "source": [
        "**Step 6: Training Loop for 3 Epochs**"
      ],
      "metadata": {
        "id": "MiM5Ez08jiFL"
      }
    },
    {
      "cell_type": "code",
      "source": [
        "EPOCHS = 3\n",
        "criterion = nn.CrossEntropyLoss()\n",
        "\n",
        "history = {name: {\"loss\": [], \"acc\": [], \"time\": []} for name in models}\n",
        "\n",
        "for name, model in models.items():\n",
        "    optimiser = torch.optim.AdamW(model.parameters(), lr=2e-3)\n",
        "    print(f\"\\nTraining {name}\")\n",
        "    for ep in range(EPOCHS):\n",
        "        t0, running_loss, correct, total = time.time(), 0.0, 0, 0\n",
        "        model.train()\n",
        "        for ids, mask, labels in loader:\n",
        "            # forward, loss, backward, step\n",
        "            optimiser.zero_grad()\n",
        "            logits = model(ids, mask)\n",
        "            loss = criterion(logits, labels)\n",
        "            loss.backward()\n",
        "            optimiser.step()\n",
        "\n",
        "            running_loss += loss.item() * labels.size(0)\n",
        "            preds = logits.argmax(dim=1)\n",
        "            correct += (preds == labels).sum().item()\n",
        "            total += labels.size(0)\n",
        "        epoch_time = time.time() - t0\n",
        "        history[name][\"loss\"].append(running_loss / total)\n",
        "        history[name][\"acc\"].append(correct / total)\n",
        "        history[name][\"time\"].append(epoch_time)\n",
        "        print(f\"  Epoch {ep+1}: loss={history[name]['loss'][-1]:.3f} acc={history[name]['acc'][-1]*100:.1f}% time={epoch_time:.1f}s\")\n"
      ],
      "metadata": {
        "id": "Q_1VHpOdjkew",
        "colab": {
          "base_uri": "https://localhost:8080/"
        },
        "outputId": "c160cf76-a1eb-4c10-c6e9-3f1dcafe4ade"
      },
      "execution_count": 9,
      "outputs": [
        {
          "output_type": "stream",
          "name": "stdout",
          "text": [
            "\n",
            "Training RNN\n",
            "  Epoch 1: loss=0.053 acc=98.5% time=1.5s\n",
            "  Epoch 2: loss=0.001 acc=99.9% time=0.3s\n",
            "  Epoch 3: loss=0.000 acc=100.0% time=0.3s\n",
            "\n",
            "Training GRU\n",
            "  Epoch 1: loss=0.065 acc=98.5% time=0.5s\n",
            "  Epoch 2: loss=0.000 acc=100.0% time=0.4s\n",
            "  Epoch 3: loss=0.000 acc=100.0% time=0.4s\n",
            "\n",
            "Training LSTM\n",
            "  Epoch 1: loss=0.093 acc=99.6% time=0.6s\n",
            "  Epoch 2: loss=0.000 acc=100.0% time=0.6s\n",
            "  Epoch 3: loss=0.000 acc=100.0% time=0.7s\n"
          ]
        }
      ]
    },
    {
      "cell_type": "markdown",
      "source": [
        "**Step 7: Plot Learning Curves**"
      ],
      "metadata": {
        "id": "xZGb8q32joSp"
      }
    },
    {
      "cell_type": "code",
      "source": [
        "import matplotlib.pyplot as plt\n",
        "plt.figure(figsize=(10,4))\n",
        "for name in models:\n",
        "    plt.plot(history[name][\"acc\"], label=f\"{name}\")\n",
        "plt.title(\"Validation Accuracy (IMDb Tiny)\")\n",
        "plt.xlabel(\"Epoch\")\n",
        "plt.ylabel(\"Accuracy\")\n",
        "plt.legend();\n",
        "plt.show()"
      ],
      "metadata": {
        "id": "9yM4N3CEjqv6",
        "colab": {
          "base_uri": "https://localhost:8080/",
          "height": 410
        },
        "outputId": "2a581ad1-14c1-424f-c08f-06665abccb07"
      },
      "execution_count": 10,
      "outputs": [
        {
          "output_type": "display_data",
          "data": {
            "text/plain": [
              "<Figure size 1000x400 with 1 Axes>"
            ],
            "image/png": "[encoded data removed]"
          },
          "metadata": {}
        }
      ]
    },
    {
      "cell_type": "markdown",
      "source": [
        "**Step 8: Qualitative Error Check (TODO)**"
      ],
      "metadata": {
        "id": "Xlq629xOjvXn"
      }
    },
    {
      "cell_type": "markdown",
      "source": [
        "Grab reviews mis‑labelled by RNN but fixed by GRU/LSTM.\n",
        "\n",
        "Hint: Run a fresh loop over loader with model.eval() and store mis‑classifications.\n",
        "\n",
        "***TODO: implement qualitative inspection (≈ 10 lines) ***"
      ],
      "metadata": {
        "id": "yNmMwkVvjzOi"
      }
    },
    {
      "cell_type": "code",
      "source": [
        "# 7  Reflection (≈ 150 words)\n",
        "# -------------------------------------------------\n",
        "\"\"\"\n",
        "Replace this markdown cell with a 150‑word reflection: Which model offers the best\n",
        "trade‑off between accuracy, training time, and parameter count for this dataset?\n",
        "Consider deployment constraints and evidence from your curves and error analysis.\n",
        "\"\"\""
      ],
      "metadata": {
        "id": "nEcg7y0Ijxo2"
      },
      "execution_count": null,
      "outputs": []
    }
  ],
  "metadata": {
    "accelerator": "GPU",
    "colab": {
      "gpuType": "T4",
      "provenance": []
    },
    "kernelspec": {
      "display_name": "Python 3",
      "name": "python3"
    },
    "language_info": {
      "name": "python"
    },
    "widgets": {
      "application/vnd.jupyter.widget-state+json": {
        "ef5d0b4599724fc0a615207ab891f859": {
          "model_module": "@jupyter-widgets/controls",
          "model_name": "VBoxModel",
          "model_module_version": "1.5.0",
          "state": {
            "_dom_classes": [],
            "_model_module": "@jupyter-widgets/controls",
            "_model_module_version": "1.5.0",
            "_model_name": "VBoxModel",
            "_view_count": null,
            "_view_module": "@jupyter-widgets/controls",
            "_view_module_version": "1.5.0",
            "_view_name": "VBoxView",
            "box_style": "",
            "children": [],
            "layout": "IPY_MODEL_f66b5f6134d74c64bf7440d1f485da00"
          }
        },
        "e8c2963708164f17ad84764f38041cfe": {
          "model_module": "@jupyter-widgets/controls",
          "model_name": "HTMLModel",
          "model_module_version": "1.5.0",
          "state": {
            "_dom_classes": [],
            "_model_module": "@jupyter-widgets/controls",
            "_model_module_version": "1.5.0",
            "_model_name": "HTMLModel",
            "_view_count": null,
            "_view_module": "@jupyter-widgets/controls",
            "_view_module_version": "1.5.0",
            "_view_name": "HTMLView",
            "description": "",
            "description_tooltip": null,
            "layout": "IPY_MODEL_3f1ade826e1d4ac89f52e5de18e68a61",
            "placeholder": "​",
            "style": "IPY_MODEL_5c7df93135854c769e114274339b8bfa",
            "value": "<center> <img\nsrc=https://huggingface.co/front/assets/huggingface_logo-noborder.svg\nalt='Hugging Face'> <br> Copy a token from <a\nhref=\"https://huggingface.co/settings/tokens\" target=\"_blank\">your Hugging Face\ntokens page</a> and paste it below. <br> Immediately click login after copying\nyour token or it might be stored in plain text in this notebook file. </center>"
          }
        },
        "8e29e5812e1742cfb9393f2b41c398fa": {
          "model_module": "@jupyter-widgets/controls",
          "model_name": "PasswordModel",
          "model_module_version": "1.5.0",
          "state": {
            "_dom_classes": [],
            "_model_module": "@jupyter-widgets/controls",
            "_model_module_version": "1.5.0",
            "_model_name": "PasswordModel",
            "_view_count": null,
            "_view_module": "@jupyter-widgets/controls",
            "_view_module_version": "1.5.0",
            "_view_name": "PasswordView",
            "continuous_update": true,
            "description": "Token:",
            "description_tooltip": null,
            "disabled": false,
            "layout": "IPY_MODEL_0a432c8ea9b149698c5fec3d32a0881c",
            "placeholder": "​",
            "style": "IPY_MODEL_85c42c9aa32d4588a07acfed697f2d59",
            "value": ""
          }
        },
        "0d04a4950cdb469da3c772e2e2b2caea": {
          "model_module": "@jupyter-widgets/controls",
          "model_name": "CheckboxModel",
          "model_module_version": "1.5.0",
          "state": {
            "_dom_classes": [],
            "_model_module": "@jupyter-widgets/controls",
            "_model_module_version": "1.5.0",
            "_model_name": "CheckboxModel",
            "_view_count": null,
            "_view_module": "@jupyter-widgets/controls",
            "_view_module_version": "1.5.0",
            "_view_name": "CheckboxView",
            "description": "Add token as git credential?",
            "description_tooltip": null,
            "disabled": false,
            "indent": true,
            "layout": "IPY_MODEL_c9c171ad9cc24718ab4a577e8addeb80",
            "style": "IPY_MODEL_04e423e30d474f53ba1747189fcd67e0",
            "value": true
          }
        },
        "e0e5c78eb9c84b81b272ad5285a6a798": {
          "model_module": "@jupyter-widgets/controls",
          "model_name": "ButtonModel",
          "model_module_version": "1.5.0",
          "state": {
            "_dom_classes": [],
            "_model_module": "@jupyter-widgets/controls",
            "_model_module_version": "1.5.0",
            "_model_name": "ButtonModel",
            "_view_count": null,
            "_view_module": "@jupyter-widgets/controls",
            "_view_module_version": "1.5.0",
            "_view_name": "ButtonView",
            "button_style": "",
            "description": "Login",
            "disabled": false,
            "icon": "",
            "layout": "IPY_MODEL_2822013f2eb24c1e9a9f2966f5ac7497",
            "style": "IPY_MODEL_7be2a52a11104a3c986b0e0090b9f930",
            "tooltip": ""
          }
        },
        "b74cd69392eb40c28aa7a1e9c687036b": {
          "model_module": "@jupyter-widgets/controls",
          "model_name": "HTMLModel",
          "model_module_version": "1.5.0",
          "state": {
            "_dom_classes": [],
            "_model_module": "@jupyter-widgets/controls",
            "_model_module_version": "1.5.0",
            "_model_name": "HTMLModel",
            "_view_count": null,
            "_view_module": "@jupyter-widgets/controls",
            "_view_module_version": "1.5.0",
            "_view_name": "HTMLView",
            "description": "",
            "description_tooltip": null,
            "layout": "IPY_MODEL_afb0ca755ada4d8abce7ac0a4829fe8f",
            "placeholder": "​",
            "style": "IPY_MODEL_48cac7d643434d2285dd0194d58e373b",
            "value": "\n<b>Pro Tip:</b> If you don't already have one, you can create a dedicated\n'notebooks' token with 'write' access, that you can then easily reuse for all\nnotebooks. </center>"
          }
        },
        "f66b5f6134d74c64bf7440d1f485da00": {
          "model_module": "@jupyter-widgets/base",
          "model_name": "LayoutModel",
          "model_module_version": "1.2.0",
          "state": {
            "_model_module": "@jupyter-widgets/base",
            "_model_module_version": "1.2.0",
            "_model_name": "LayoutModel",
            "_view_count": null,
            "_view_module": "@jupyter-widgets/base",
            "_view_module_version": "1.2.0",
            "_view_name": "LayoutView",
            "align_content": null,
            "align_items": "center",
            "align_self": null,
            "border": null,
            "bottom": null,
            "display": "flex",
            "flex": null,
            "flex_flow": "column",
            "grid_area": null,
            "grid_auto_columns": null,
            "grid_auto_flow": null,
            "grid_auto_rows": null,
            "grid_column": null,
            "grid_gap": null,
            "grid_row": null,
            "grid_template_areas": null,
            "grid_template_columns": null,
            "grid_template_rows": null,
            "height": null,
            "justify_content": null,
            "justify_items": null,
            "left": null,
            "margin": null,
            "max_height": null,
            "max_width": null,
            "min_height": null,
            "min_width": null,
            "object_fit": null,
            "object_position": null,
            "order": null,
            "overflow": null,
            "overflow_x": null,
            "overflow_y": null,
            "padding": null,
            "right": null,
            "top": null,
            "visibility": null,
            "width": "50%"
          }
        },
        "3f1ade826e1d4ac89f52e5de18e68a61": {
          "model_module": "@jupyter-widgets/base",
          "model_name": "LayoutModel",
          "model_module_version": "1.2.0",
          "state": {
            "_model_module": "@jupyter-widgets/base",
            "_model_module_version": "1.2.0",
            "_model_name": "LayoutModel",
            "_view_count": null,
            "_view_module": "@jupyter-widgets/base",
            "_view_module_version": "1.2.0",
            "_view_name": "LayoutView",
            "align_content": null,
            "align_items": null,
            "align_self": null,
            "border": null,
            "bottom": null,
            "display": null,
            "flex": null,
            "flex_flow": null,
            "grid_area": null,
            "grid_auto_columns": null,
            "grid_auto_flow": null,
            "grid_auto_rows": null,
            "grid_column": null,
            "grid_gap": null,
            "grid_row": null,
            "grid_template_areas": null,
            "grid_template_columns": null,
            "grid_template_rows": null,
            "height": null,
            "justify_content": null,
            "justify_items": null,
            "left": null,
            "margin": null,
            "max_height": null,
            "max_width": null,
            "min_height": null,
            "min_width": null,
            "object_fit": null,
            "object_position": null,
            "order": null,
            "overflow": null,
            "overflow_x": null,
            "overflow_y": null,
            "padding": null,
            "right": null,
            "top": null,
            "visibility": null,
            "width": null
          }
        },
        "5c7df93135854c769e114274339b8bfa": {
          "model_module": "@jupyter-widgets/controls",
          "model_name": "DescriptionStyleModel",
          "model_module_version": "1.5.0",
          "state": {
            "_model_module": "@jupyter-widgets/controls",
            "_model_module_version": "1.5.0",
            "_model_name": "DescriptionStyleModel",
            "_view_count": null,
            "_view_module": "@jupyter-widgets/base",
            "_view_module_version": "1.2.0",
            "_view_name": "StyleView",
            "description_width": ""
          }
        },
        "0a432c8ea9b149698c5fec3d32a0881c": {
          "model_module": "@jupyter-widgets/base",
          "model_name": "LayoutModel",
          "model_module_version": "1.2.0",
          "state": {
            "_model_module": "@jupyter-widgets/base",
            "_model_module_version": "1.2.0",
            "_model_name": "LayoutModel",
            "_view_count": null,
            "_view_module": "@jupyter-widgets/base",
            "_view_module_version": "1.2.0",
            "_view_name": "LayoutView",
            "align_content": null,
            "align_items": null,
            "align_self": null,
            "border": null,
            "bottom": null,
            "display": null,
            "flex": null,
            "flex_flow": null,
            "grid_area": null,
            "grid_auto_columns": null,
            "grid_auto_flow": null,
            "grid_auto_rows": null,
            "grid_column": null,
            "grid_gap": null,
            "grid_row": null,
            "grid_template_areas": null,
            "grid_template_columns": null,
            "grid_template_rows": null,
            "height": null,
            "justify_content": null,
            "justify_items": null,
            "left": null,
            "margin": null,
            "max_height": null,
            "max_width": null,
            "min_height": null,
            "min_width": null,
            "object_fit": null,
            "object_position": null,
            "order": null,
            "overflow": null,
            "overflow_x": null,
            "overflow_y": null,
            "padding": null,
            "right": null,
            "top": null,
            "visibility": null,
            "width": null
          }
        },
        "85c42c9aa32d4588a07acfed697f2d59": {
          "model_module": "@jupyter-widgets/controls",
          "model_name": "DescriptionStyleModel",
          "model_module_version": "1.5.0",
          "state": {
            "_model_module": "@jupyter-widgets/controls",
            "_model_module_version": "1.5.0",
            "_model_name": "DescriptionStyleModel",
            "_view_count": null,
            "_view_module": "@jupyter-widgets/base",
            "_view_module_version": "1.2.0",
            "_view_name": "StyleView",
            "description_width": ""
          }
        },
        "c9c171ad9cc24718ab4a577e8addeb80": {
          "model_module": "@jupyter-widgets/base",
          "model_name": "LayoutModel",
          "model_module_version": "1.2.0",
          "state": {
            "_model_module": "@jupyter-widgets/base",
            "_model_module_version": "1.2.0",
            "_model_name": "LayoutModel",
            "_view_count": null,
            "_view_module": "@jupyter-widgets/base",
            "_view_module_version": "1.2.0",
            "_view_name": "LayoutView",
            "align_content": null,
            "align_items": null,
            "align_self": null,
            "border": null,
            "bottom": null,
            "display": null,
            "flex": null,
            "flex_flow": null,
            "grid_area": null,
            "grid_auto_columns": null,
            "grid_auto_flow": null,
            "grid_auto_rows": null,
            "grid_column": null,
            "grid_gap": null,
            "grid_row": null,
            "grid_template_areas": null,
            "grid_template_columns": null,
            "grid_template_rows": null,
            "height": null,
            "justify_content": null,
            "justify_items": null,
            "left": null,
            "margin": null,
            "max_height": null,
            "max_width": null,
            "min_height": null,
            "min_width": null,
            "object_fit": null,
            "object_position": null,
            "order": null,
            "overflow": null,
            "overflow_x": null,
            "overflow_y": null,
            "padding": null,
            "right": null,
            "top": null,
            "visibility": null,
            "width": null
          }
        },
        "04e423e30d474f53ba1747189fcd67e0": {
          "model_module": "@jupyter-widgets/controls",
          "model_name": "DescriptionStyleModel",
          "model_module_version": "1.5.0",
          "state": {
            "_model_module": "@jupyter-widgets/controls",
            "_model_module_version": "1.5.0",
            "_model_name": "DescriptionStyleModel",
            "_view_count": null,
            "_view_module": "@jupyter-widgets/base",
            "_view_module_version": "1.2.0",
            "_view_name": "StyleView",
            "description_width": ""
          }
        },
        "2822013f2eb24c1e9a9f2966f5ac7497": {
          "model_module": "@jupyter-widgets/base",
          "model_name": "LayoutModel",
          "model_module_version": "1.2.0",
          "state": {
            "_model_module": "@jupyter-widgets/base",
            "_model_module_version": "1.2.0",
            "_model_name": "LayoutModel",
            "_view_count": null,
            "_view_module": "@jupyter-widgets/base",
            "_view_module_version": "1.2.0",
            "_view_name": "LayoutView",
            "align_content": null,
            "align_items": null,
            "align_self": null,
            "border": null,
            "bottom": null,
            "display": null,
            "flex": null,
            "flex_flow": null,
            "grid_area": null,
            "grid_auto_columns": null,
            "grid_auto_flow": null,
            "grid_auto_rows": null,
            "grid_column": null,
            "grid_gap": null,
            "grid_row": null,
            "grid_template_areas": null,
            "grid_template_columns": null,
            "grid_template_rows": null,
            "height": null,
            "justify_content": null,
            "justify_items": null,
            "left": null,
            "margin": null,
            "max_height": null,
            "max_width": null,
            "min_height": null,
            "min_width": null,
            "object_fit": null,
            "object_position": null,
            "order": null,
            "overflow": null,
            "overflow_x": null,
            "overflow_y": null,
            "padding": null,
            "right": null,
            "top": null,
            "visibility": null,
            "width": null
          }
        },
        "7be2a52a11104a3c986b0e0090b9f930": {
          "model_module": "@jupyter-widgets/controls",
          "model_name": "ButtonStyleModel",
          "model_module_version": "1.5.0",
          "state": {
            "_model_module": "@jupyter-widgets/controls",
            "_model_module_version": "1.5.0",
            "_model_name": "ButtonStyleModel",
            "_view_count": null,
            "_view_module": "@jupyter-widgets/base",
            "_view_module_version": "1.2.0",
            "_view_name": "StyleView",
            "button_color": null,
            "font_weight": ""
          }
        },
        "afb0ca755ada4d8abce7ac0a4829fe8f": {
          "model_module": "@jupyter-widgets/base",
          "model_name": "LayoutModel",
          "model_module_version": "1.2.0",
          "state": {
            "_model_module": "@jupyter-widgets/base",
            "_model_module_version": "1.2.0",
            "_model_name": "LayoutModel",
            "_view_count": null,
            "_view_module": "@jupyter-widgets/base",
            "_view_module_version": "1.2.0",
            "_view_name": "LayoutView",
            "align_content": null,
            "align_items": null,
            "align_self": null,
            "border": null,
            "bottom": null,
            "display": null,
            "flex": null,
            "flex_flow": null,
            "grid_area": null,
            "grid_auto_columns": null,
            "grid_auto_flow": null,
            "grid_auto_rows": null,
            "grid_column": null,
            "grid_gap": null,
            "grid_row": null,
            "grid_template_areas": null,
            "grid_template_columns": null,
            "grid_template_rows": null,
            "height": null,
            "justify_content": null,
            "justify_items": null,
            "left": null,
            "margin": null,
            "max_height": null,
            "max_width": null,
            "min_height": null,
            "min_width": null,
            "object_fit": null,
            "object_position": null,
            "order": null,
            "overflow": null,
            "overflow_x": null,
            "overflow_y": null,
            "padding": null,
            "right": null,
            "top": null,
            "visibility": null,
            "width": null
          }
        },
        "48cac7d643434d2285dd0194d58e373b": {
          "model_module": "@jupyter-widgets/controls",
          "model_name": "DescriptionStyleModel",
          "model_module_version": "1.5.0",
          "state": {
            "_model_module": "@jupyter-widgets/controls",
            "_model_module_version": "1.5.0",
            "_model_name": "DescriptionStyleModel",
            "_view_count": null,
            "_view_module": "@jupyter-widgets/base",
            "_view_module_version": "1.2.0",
            "_view_name": "StyleView",
            "description_width": ""
          }
        },
        "f7367946120c47858c9f124531c36f0c": {
          "model_module": "@jupyter-widgets/controls",
          "model_name": "LabelModel",
          "model_module_version": "1.5.0",
          "state": {
            "_dom_classes": [],
            "_model_module": "@jupyter-widgets/controls",
            "_model_module_version": "1.5.0",
            "_model_name": "LabelModel",
            "_view_count": null,
            "_view_module": "@jupyter-widgets/controls",
            "_view_module_version": "1.5.0",
            "_view_name": "LabelView",
            "description": "",
            "description_tooltip": null,
            "layout": "IPY_MODEL_91f48b193dac491db3c65bf90e748b25",
            "placeholder": "​",
            "style": "IPY_MODEL_26578afd19364c81ba10126a915412cd",
            "value": "Connecting..."
          }
        },
        "91f48b193dac491db3c65bf90e748b25": {
          "model_module": "@jupyter-widgets/base",
          "model_name": "LayoutModel",
          "model_module_version": "1.2.0",
          "state": {
            "_model_module": "@jupyter-widgets/base",
            "_model_module_version": "1.2.0",
            "_model_name": "LayoutModel",
            "_view_count": null,
            "_view_module": "@jupyter-widgets/base",
            "_view_module_version": "1.2.0",
            "_view_name": "LayoutView",
            "align_content": null,
            "align_items": null,
            "align_self": null,
            "border": null,
            "bottom": null,
            "display": null,
            "flex": null,
            "flex_flow": null,
            "grid_area": null,
            "grid_auto_columns": null,
            "grid_auto_flow": null,
            "grid_auto_rows": null,
            "grid_column": null,
            "grid_gap": null,
            "grid_row": null,
            "grid_template_areas": null,
            "grid_template_columns": null,
            "grid_template_rows": null,
            "height": null,
            "justify_content": null,
            "justify_items": null,
            "left": null,
            "margin": null,
            "max_height": null,
            "max_width": null,
            "min_height": null,
            "min_width": null,
            "object_fit": null,
            "object_position": null,
            "order": null,
            "overflow": null,
            "overflow_x": null,
            "overflow_y": null,
            "padding": null,
            "right": null,
            "top": null,
            "visibility": null,
            "width": null
          }
        },
        "26578afd19364c81ba10126a915412cd": {
          "model_module": "@jupyter-widgets/controls",
          "model_name": "DescriptionStyleModel",
          "model_module_version": "1.5.0",
          "state": {
            "_model_module": "@jupyter-widgets/controls",
            "_model_module_version": "1.5.0",
            "_model_name": "DescriptionStyleModel",
            "_view_count": null,
            "_view_module": "@jupyter-widgets/base",
            "_view_module_version": "1.2.0",
            "_view_name": "StyleView",
            "description_width": ""
          }
        }
      }
    }
  },
  "nbformat": 4,
  "nbformat_minor": 0
}